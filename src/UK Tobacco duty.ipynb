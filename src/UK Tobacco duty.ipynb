{
 "cells": [
  {
   "cell_type": "code",
   "execution_count": 21,
   "id": "83370fe0-7da2-47c3-a182-00fbb9e4298f",
   "metadata": {},
   "outputs": [
    {
     "name": "stdout",
     "output_type": "stream",
     "text": [
      "   Year Tobacco duty in £ on 1,000 cigarettes\n",
      "0  1998                                 77.09\n",
      "1  2001                                 92.25\n",
      "2  2003                                 96.88\n",
      "3  2006                                105.10\n",
      "4  2009                                114.31\n",
      "5  2012                                167.41\n",
      "6  2015                                189.49\n",
      "7  2017                                207.99\n"
     ]
    }
   ],
   "source": [
    "import pandas as pd\n",
    "import requests\n",
    "from bs4 import BeautifulSoup\n",
    "\n",
    "# URLからHTMLを取得\n",
    "url = \"https://www.getsurrey.co.uk/news/surrey-news/cigarette-prices-rise-here-how-12974763\"\n",
    "response = requests.get(url)\n",
    "html = response.content\n",
    "\n",
    "# BeautifulSoupを使用してHTMLを解析\n",
    "soup = BeautifulSoup(html, 'html.parser')\n",
    "\n",
    "# tbody内のすべての行を抽出\n",
    "rows = soup.find('tbody').find_all('tr')\n",
    "\n",
    "# 列のヘッダーを抽出\n",
    "headers = [header.get_text(strip=True) for header in rows[0].find_all('strong')]\n",
    "\n",
    "# 行のデータを抽出してDataFrameに追加\n",
    "data = []\n",
    "for row in rows[1:]:\n",
    "    row_data = [cell.get_text(strip=True) for cell in row.find_all('td')]\n",
    "    if int(row_data[0]) in [1998, 2001, 2003, 2006, 2009, 2012, 2015, 2017]:\n",
    "        data.append(row_data)\n",
    "\n",
    "# データをDataFrameに変換\n",
    "df = pd.DataFrame(data, columns=headers)\n",
    "\n",
    "# Year列を数値に変換\n",
    "df['Year'] = df['Year'].astype(int)\n",
    "# データを表示\n",
    "print(df)"
   ]
  },
  {
   "cell_type": "code",
   "execution_count": 22,
   "id": "a10a6fe5-a022-4402-bb03-0fd8638f991d",
   "metadata": {},
   "outputs": [],
   "source": [
    "import matplotlib.pyplot as plt\n",
    "\n",
    "# DataFrameから表を描画\n",
    "plt.figure(figsize=(10, 10))\n",
    "plt.table(cellText=df.values,\n",
    "          colLabels=df.columns,\n",
    "          cellLoc = 'center', \n",
    "          loc='center')\n",
    "plt.axis('off')  # 軸を非表示にする\n",
    "\n",
    "# 表を画像ファイルとして保存\n",
    "plt.savefig('tobacco_duty_table.png', bbox_inches='tight', pad_inches=0)\n",
    "\n",
    "# グラフを表示（不要なので非表示にする）\n",
    "plt.close()"
   ]
  }
 ],
 "metadata": {
  "kernelspec": {
   "display_name": "Python 3 (ipykernel)",
   "language": "python",
   "name": "python3"
  },
  "language_info": {
   "codemirror_mode": {
    "name": "ipython",
    "version": 3
   },
   "file_extension": ".py",
   "mimetype": "text/x-python",
   "name": "python",
   "nbconvert_exporter": "python",
   "pygments_lexer": "ipython3",
   "version": "3.12.1"
  }
 },
 "nbformat": 4,
 "nbformat_minor": 5
}
