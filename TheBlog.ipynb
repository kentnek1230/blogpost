{
 "cells": [
  {
   "cell_type": "markdown",
   "id": "e4fa336d-8a20-407e-a901-8179f4f0d63a",
   "metadata": {},
   "source": [
    "# The situation of smoking and influence on health"
   ]
  },
  {
   "cell_type": "markdown",
   "id": "b48aec32-45ae-469c-8023-452eb5c9fe15",
   "metadata": {},
   "source": [
    "Today, almost all people recognise that smoking cigarettes is a very unhealthy conduct which may enhance the risk of getting diseases such as lung cancer, Chronic Obstructive Pulmonary Disease and Cardiovascular Disease. Hence, most countries have issued warnings about cigarette addiction to citizens especially targeting people in younger age brackets. For example, in the UK, the government announced that each year the legal age for cigarette sales, currently 18, will increase by one year, which means that people born in or after 2009 will never be able to catch up to the legal age and legally purchase cigarettes in stores. Similar to what the British government will do, more and more governments will crack on restricting smoking behaviours."
   ]
  },
  {
   "cell_type": "markdown",
   "id": "ca89d926-2f6b-43f2-8b43-a73cedc0ae67",
   "metadata": {},
   "source": [
    "## Prevalence of tobacco use\n",
    "The graph below shows the changes in the share of people smoking cigarettes daily or non-daily from 2000 to 2020 in four countries(Japan, the US, the UK, France)."
   ]
  },
  {
   "cell_type": "markdown",
   "id": "bdf2787f-f402-4324-ab76-14c7cb31b38a",
   "metadata": {},
   "source": [
    "![the graph showing the share of adults who smoke](share-of-adults-who-smoke.png)"
   ]
  },
  {
   "cell_type": "markdown",
   "id": "03daabfc-9272-4e99-a615-2e4f4882a01a",
   "metadata": {},
   "source": [
    "As you can see, every country listed on the graph shows downward trends. However, France shows a relatively higher prevalence of tobacco use. Compared to France, the UK has significantly decreased the prevalence of tobacco use. "
   ]
  },
  {
   "cell_type": "markdown",
   "id": "bf71f6e5-e7b1-420c-b248-69fa6fc0abda",
   "metadata": {},
   "source": [
    "## The increase in prices of tobacco\n",
    "One reason for the decrease is an increase in tobacco duty. \n",
    "The table below demonstrates the steep increase in tobacco duty in the UK."
   ]
  },
  {
   "cell_type": "markdown",
   "id": "9120187a-9041-488a-a9a7-73f23b87c331",
   "metadata": {},
   "source": [
    "![タバコ税の推移](tobacco_duty_table.png)"
   ]
  },
  {
   "cell_type": "markdown",
   "id": "a56799a9-0c41-4b58-98de-6be7f13e482e",
   "metadata": {},
   "source": [
    "This table shows the Tobacco duty in £ on 1,000 cigarettes. In 2017, the figure soared to 207.09, marking an increase nearly threefold from the level observed in 1998. From this data, financial restriction is one of the most effective measures to alleviate or stop tobacco use. Given the price of a product you usually buy and use rises three times higher than what it used to be, you may probably stop buying it and shift to other alternative products. In the case of tobacco, the alternative product is vaping. These days, vapes are really prevalent product among people in their 20s. When you go out, you can see many people using vapes everywhere. It costs less than tobacco and has less detrimental effects on health. However, it has a certain amount of nicotine, so it can not be said vapes are safe. E-cigarettes are also safer than tobacco but, same as vaping, it is still unhealthy. "
   ]
  },
  {
   "cell_type": "markdown",
   "id": "ace442bb-0551-4eb0-831c-d99d95b7f990",
   "metadata": {},
   "source": [
    "The following table presents the inflation-adjusted prices of a standard pack of cigarettes (containing 20 cigarettes) spanning from the year 1960 to 2020. Please note that the exchange rate used for conversion purposes is 1 pound = 190 yen."
   ]
  },
  {
   "cell_type": "markdown",
   "id": "c2b32645-8c6e-4c00-94f5-bc30c52c76cb",
   "metadata": {},
   "source": [
    "![日本のたばこ値段](Japanese_tobbaco_price.png)"
   ]
  },
  {
   "cell_type": "markdown",
   "id": "6cc7dc99-0be1-4e83-af49-2744d848f8ef",
   "metadata": {},
   "source": [
    "In contrast to the UK, where cigarette prices have seen significant fluctuations, Japan has experienced relatively stable pricing. It's important to note that these prices have been adjusted for inflation, rendering them distinct from historical prices. It is crucial for people who perceive these prices as significantly lower than those in their own countries to recognize that the yen's diminished value against other currencies plays a significant role in this apparent affordability."
   ]
  },
  {
   "cell_type": "markdown",
   "id": "d40f456c-decf-4b0f-a9ac-77b295d22bde",
   "metadata": {},
   "source": [
    " What is interesting is that even though cigarettes in Japan are still affordable, the prevalence in Japan has considerably dropped as evident in the first graph. Thus, there exist alternative methods to reduce the number of smokers aside from increasing cigarette prices or raising duties. This is not meant to say that markup on cigarettes is not effective, but rather it suggests that reducing the smoker population should involve more than just arbitrarily inflating prices, but also implementing non-financial deterrents to prevent individuals from encountering financial difficulties. However, it's evident from the decline rate in the UK depicted in the first graph that implementing financial measures is undeniably the most effective and direct approach."
   ]
  },
  {
   "cell_type": "markdown",
   "id": "93f02674-94b6-456c-897d-865c63ca6407",
   "metadata": {},
   "source": [
    "## The sales of cigarettes \n",
    "The following graph demonstrates the sales of cigarettes per adult per day. In short, the vertical axis represents the average number of cigarettes that an adult smokes in a day."
   ]
  },
  {
   "cell_type": "markdown",
   "id": "cf89e844-0eac-485c-82e3-11c93faa8eb2",
   "metadata": {},
   "source": [
    "![タバコ購入率](Sales_of_cigarettes.png)"
   ]
  },
  {
   "cell_type": "markdown",
   "id": "c24afba6-8d8a-499e-9e58-1c0907f7667b",
   "metadata": {},
   "source": [
    "In contrast to the initial trend depicted in the graph, Japan consistently occupied the top position among the four countries after 1990. This phenomenon may be attributed to the affordability of cigarettes. Despite adjustments for differences in the cost of living, the price of cigarettes in Japan remains significantly lower than in the other countries. Consequently, Japanese smokers can afford to consume more cigarettes per day without reducing the frequency of smoking. In comparison, both the UK and the US have experienced a rapid decline in cigarette consumption since around 1980. Another notable point is that France is ranked at the 4th while, in the first graph, it is located at the top."
   ]
  },
  {
   "cell_type": "markdown",
   "id": "989cd7a6-a24d-490c-9537-f49e40bc663f",
   "metadata": {},
   "source": [
    "## Correlation between lung cancer and smoking\n",
    "Let’s move on to analyzing the health consequences of smoking. As I mentioned earlier, lung cancer is among the most prevalent diseases, the likelihood of which is increased by smoking. \n",
    "How strongly does smoking correlate with lung cancer? "
   ]
  },
  {
   "cell_type": "markdown",
   "id": "51899242-c854-4b1f-b322-57cb2a22aab7",
   "metadata": {},
   "source": [
    "Here are the graphs showing death rates from lung cancer in men versus women, measured as the number of deaths per 100,000 individuals. "
   ]
  },
  {
   "cell_type": "markdown",
   "id": "abd4fb8d-e90f-4842-8e43-ae56c7348078",
   "metadata": {},
   "source": [
    "![肺がん死亡率](Death_rate.png)"
   ]
  },
  {
   "cell_type": "markdown",
   "id": "edd89682-d86f-46b3-91a0-aad514eca866",
   "metadata": {},
   "source": [
    "As for the male graph, the death rates in the US, Japan, and France reached their highest point around 2000, while in the UK, they peaked around 1980. However, the graph for each country shows a similar trend: after reaching their peaks, the rates continued to fall. On the other hand, the shape of the female graph varies from country to country."
   ]
  },
  {
   "cell_type": "markdown",
   "id": "f15a5b27-621f-406e-b1f3-55e286f0bd6f",
   "metadata": {},
   "source": [
    "Finally, the following graphs show the correlation between lung cancer and smoking in each country.  It is divided by country because healthcare quality and availability are highly dependent on the policies of the countries and the degree of the advancement of medical technology."
   ]
  },
  {
   "cell_type": "markdown",
   "id": "312f0916-2da7-4a92-9d68-cc853b47cb03",
   "metadata": {},
   "source": [
    "Before starting the analysis of these diagrams, it is important to note that many other factors than smoking such as developments in healthcare contribute to the death rate of lung cancer. However, smoking is one of the most attributing factors to lung cancer, therefore, hypothetically death rates are supposed to be on a downward trend to some extent as the earlier graphs prove that the number of people smoking has decreased significantly over the last 40 years."
   ]
  },
  {
   "cell_type": "markdown",
   "id": "44dc21d0-9d52-46cf-a72a-96f50fa21bb1",
   "metadata": {},
   "source": [
    "![相関](correlation.png)"
   ]
  },
  {
   "cell_type": "markdown",
   "id": "895674aa-4366-44e9-a771-b5400740e4a1",
   "metadata": {},
   "source": [
    "Firstly, common attributes among each diagram are explored. All the diagrams roughly demonstrate that as cigarette sales have increased, male death rates have also risen. Additionally, the death rates of all countries grew between 1950 and 1990, and after 1990 or 2000, they gradually started to decline. Therefore, it is probably true that smoking cigarettes increases the death rate from lung cancer."
   ]
  },
  {
   "cell_type": "markdown",
   "id": "fef90265-d51a-4be9-9af9-15cbc35af289",
   "metadata": {},
   "source": [
    "Subsequently, I have identified some distinctive attributes in each diagram. When examining the diagrams for Japan, one may notice that the death rate has not significantly improved since 2000, despite a considerable reduction in tobacco use prevalence after that year. A similar trend is observed in the diagrams for France, where this tendency is even more pronounced. In the case of France, the decrease in the death rate is only approximately 5%. Hence, it can be inferred that after death rates have reached a certain point, which varies from country to country, further significant reductions become challenging.However, the death rates in the US and the UK have dropped more significantly compared to others from 1995 to 2010. While there is no available data beyond 2010, if the trends in the US and the UK mirror those of Japan and France, they might either stagnate around 30 to 40 or continue to decrease gradually. "
   ]
  },
  {
   "cell_type": "markdown",
   "id": "7fd376ff-c16b-4347-be23-4bd68e7463cc",
   "metadata": {},
   "source": [
    "In conclusion, while smoking cigarettes is correlated with lung cancer, it is uncertain whether continuously banning it or reducing the number of smokers can significantly and effectively reduce the risk of death from lung cancer once a sort of plateau has been reached."
   ]
  }
 ],
 "metadata": {
  "kernelspec": {
   "display_name": "Python 3 (ipykernel)",
   "language": "python",
   "name": "python3"
  },
  "language_info": {
   "codemirror_mode": {
    "name": "ipython",
    "version": 3
   },
   "file_extension": ".py",
   "mimetype": "text/x-python",
   "name": "python",
   "nbconvert_exporter": "python",
   "pygments_lexer": "ipython3",
   "version": "3.12.1"
  }
 },
 "nbformat": 4,
 "nbformat_minor": 5
}
