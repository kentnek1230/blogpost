{
 "cells": [
  {
   "cell_type": "code",
   "execution_count": 1,
   "id": "a4051bd8-0fe3-4b9e-939e-81b0d4e3b6f5",
   "metadata": {},
   "outputs": [
    {
     "name": "stdout",
     "output_type": "stream",
     "text": [
      "   Year  Inflation-adjusted price(yen)\n",
      "0  1960                            742\n",
      "1  1970                            366\n",
      "2  1980                            226\n",
      "3  1990                            224\n",
      "4  2000                            238\n",
      "5  2010                            336\n",
      "6  2020                            560\n"
     ]
    }
   ],
   "source": [
    "import re\n",
    "import requests\n",
    "import pandas as pd\n",
    "\n",
    "# URLを指定\n",
    "url = \"https://nenji-toukei.com/n/kiji/10069\"\n",
    "\n",
    "# ウェブページのHTMLを取得\n",
    "response = requests.get(url)\n",
    "html_content = response.text\n",
    "\n",
    "# JavaScriptの配列内のデータを正規表現で抽出\n",
    "data_pattern = r\"google.visualization.arrayToDataTable\\((.*?)\\);\"\n",
    "data_match = re.search(data_pattern, html_content, re.DOTALL)\n",
    "\n",
    "if data_match:\n",
    "    data_string = data_match.group(1).strip()\n",
    "    \n",
    "    # 数字のみを抽出\n",
    "    numbers = re.findall(r\"\\b\\d+\\b\", data_string)\n",
    "    \n",
    "# 1960年から2010年までのデータのみを抽出\n",
    "filtered_numbers = [(int(numbers[i]), int(numbers[i+2])) for i in range(0, len(numbers), 3) if 1960 <= int(numbers[i]) <= 2010 and int(numbers[i]) % 10 == 0]\n",
    "    \n",
    "# DataFrameに変換\n",
    "df = pd.DataFrame(filtered_numbers, columns=[\"Year\", \"Inflation-adjusted price(yen)\"])\n",
    "\n",
    "# \"Inflation-adjusted price\"列の値を2倍する（タバコ10本入りの値だったため現在の20本あたりの値段にする）\n",
    "df[\"Inflation-adjusted price(yen)\"] = df[\"Inflation-adjusted price(yen)\"] * 2\n",
    "\n",
    "# 新しい行のデータを作成(2020年のデータのみ別サイトから引用)\n",
    "new_row = {\"Year\": 2020, \"Inflation-adjusted price(yen)\": 560}\n",
    "\n",
    "# DataFrameに新しい行を追加\n",
    "df.loc[len(df)] = new_row\n",
    "\n",
    "# 結果を表示\n",
    "print(df)"
   ]
  },
  {
   "cell_type": "code",
   "execution_count": 2,
   "id": "c41e827c-e7f1-4398-9e5e-e39efcc3100e",
   "metadata": {},
   "outputs": [],
   "source": [
    "import matplotlib.pyplot as plt\n",
    "\n",
    "# DataFrameから表を描画\n",
    "plt.figure(figsize=(6, 6))\n",
    "plt.table(cellText=df.values,\n",
    "          colLabels=df.columns,\n",
    "          cellLoc = 'center', \n",
    "          loc='center')\n",
    "plt.axis('off')  # 軸を非表示にする\n",
    "\n",
    "# 表を画像ファイルとして保存\n",
    "plt.savefig('Japanese_tobbaco_price.png', bbox_inches='tight', pad_inches=0)\n",
    "\n",
    "# グラフを表示（不要なので非表示にする）\n",
    "plt.close()"
   ]
  }
 ],
 "metadata": {
  "kernelspec": {
   "display_name": "Python 3 (ipykernel)",
   "language": "python",
   "name": "python3"
  },
  "language_info": {
   "codemirror_mode": {
    "name": "ipython",
    "version": 3
   },
   "file_extension": ".py",
   "mimetype": "text/x-python",
   "name": "python",
   "nbconvert_exporter": "python",
   "pygments_lexer": "ipython3",
   "version": "3.12.1"
  }
 },
 "nbformat": 4,
 "nbformat_minor": 5
}
